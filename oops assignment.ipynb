{
 "cells": [
  {
   "cell_type": "code",
   "execution_count": 6,
   "id": "b23f9729",
   "metadata": {},
   "outputs": [
    {
     "name": "stdout",
     "output_type": "stream",
     "text": [
      "Hello my name is  Aravind and I am 25 Years old\n"
     ]
    }
   ],
   "source": [
    "'''1)Person Class\n",
    "Objective: Create a class to represent a Person with attributes for their name and age.\n",
    "Tasks:\n",
    "Define a class named Person.\n",
    "Initialize the attributes name and age in the init method.\n",
    "Create a method introduce_yourself that prints a message in the format: \"Hello, my name is Name and I am Age years old.\"'''\n",
    "\n",
    "class person:\n",
    "    def __init__ (self,name,age):\n",
    "        self.name=name\n",
    "        self.age=age \n",
    "    def display(self_1):\n",
    "        print(\"Hello my name is \",self_1.name ,\"and I am\",self_1.age ,\"Years old\" ) \n",
    "det =person(\"Aravind\", \"25\")\n",
    "det.display()"
   ]
  },
  {
   "cell_type": "code",
   "execution_count": 1,
   "id": "cae90bdb",
   "metadata": {},
   "outputs": [
    {
     "name": "stdout",
     "output_type": "stream",
     "text": [
      "50\n",
      "30\n"
     ]
    }
   ],
   "source": [
    "'''Rectangle Class\n",
    "Objective: Create a class to represent a Rectangle. This class should have attributes for width and height and methods to calculate the area and perimeter.\n",
    "'''\n",
    "class rectangle:\n",
    "    def __init__(self,width,height):\n",
    "        self.width =width \n",
    "        self.height =height \n",
    "    def area(object_1):\n",
    "        return object_1.width * object_1.height\n",
    "    def perimeter(object_2):\n",
    "        return 2*(object_2.width+object_2.height) \n",
    "my_rectangle = rectangle(5,10) \n",
    "print(my_rectangle.area()) \n",
    "print(my_rectangle.perimeter())"
   ]
  },
  {
   "cell_type": "code",
   "execution_count": 6,
   "id": "d3c6637b",
   "metadata": {},
   "outputs": [
    {
     "name": "stdout",
     "output_type": "stream",
     "text": [
      "78.53981633974483\n",
      "31.41592653589793\n"
     ]
    }
   ],
   "source": [
    "''' Assignment 1.3: Circle Class\n",
    "Objective: Create a class to represent a Circle with an attribute for its radius. Include methods to calculate the circle's area and circumference.'''\n",
    "import math\n",
    "class Circle:\n",
    "    def __init__(self,radius):\n",
    "        self.radius= radius \n",
    "    def area(self_1):\n",
    "        return math.pi * self_1.radius**2 \n",
    "    def circumference(self_2):\n",
    "        return 2*math.pi*self_2.radius \n",
    "my_circle = Circle(5)\n",
    "print(my_circle.area())  # This should print: 78.53981633974483 (or similar)\n",
    "print(my_circle.circumference())\n",
    "    "
   ]
  },
  {
   "cell_type": "code",
   "execution_count": 5,
   "id": "dcdba342",
   "metadata": {},
   "outputs": [
    {
     "name": "stdout",
     "output_type": "stream",
     "text": [
      "('Toyoto', 'Corolla', '2019')\n"
     ]
    }
   ],
   "source": [
    "''': Car Class\n",
    "Objective: Create a class to represent a Car with attributes for the make, model, and year. Include a method to display a\n",
    "    \n",
    "    descriptive name of the car.'''\n",
    "class Car:\n",
    "    def __init__(self, make, model,year):\n",
    "        self.make = make \n",
    "        self.model =model\n",
    "        self.year =year \n",
    "    def descriptive_name(self_1):\n",
    "        return self_1.make,self_1.model, self_1.year \n",
    "my_car =Car(\"Toyoto\", \"Corolla\", \"2019\") \n",
    "print(my_car.descriptive_name())\n",
    "    "
   ]
  },
  {
   "cell_type": "code",
   "execution_count": null,
   "id": "c855548f",
   "metadata": {},
   "outputs": [],
   "source": []
  }
 ],
 "metadata": {
  "kernelspec": {
   "display_name": "Python 3 (ipykernel)",
   "language": "python",
   "name": "python3"
  },
  "language_info": {
   "codemirror_mode": {
    "name": "ipython",
    "version": 3
   },
   "file_extension": ".py",
   "mimetype": "text/x-python",
   "name": "python",
   "nbconvert_exporter": "python",
   "pygments_lexer": "ipython3",
   "version": "3.9.12"
  }
 },
 "nbformat": 4,
 "nbformat_minor": 5
}
