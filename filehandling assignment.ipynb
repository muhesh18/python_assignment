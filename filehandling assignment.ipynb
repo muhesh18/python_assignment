{
 "cells": [
  {
   "cell_type": "code",
   "execution_count": 1,
   "id": "be463957",
   "metadata": {},
   "outputs": [
    {
     "name": "stdout",
     "output_type": "stream",
     "text": [
      "Enter the first number: 1\n",
      "Enter the second number: 3\n",
      "Select operation (+, -, *, /): +\n",
      "Result: 4.0\n",
      "Do you want to perform another calculation? (yes/no): y\n"
     ]
    }
   ],
   "source": [
    "def calculate(num1, num2, operator):\n",
    "    if operator == '+':\n",
    "        return num1 + num2\n",
    "    elif operator == '-':\n",
    "        return num1 - num2\n",
    "    elif operator == '*':\n",
    "        return num1 * num2\n",
    "    elif operator == '/':\n",
    "        if num2 != 0:\n",
    "            return num1 / num2\n",
    "        else:\n",
    "            return \"Error! Division by zero.\"\n",
    "    else:\n",
    "        return \"Error! Invalid operator.\"\n",
    "\n",
    "\n",
    "def main():\n",
    "    while True:\n",
    "        try:\n",
    "            num1 = float(input(\"Enter the first number: \"))\n",
    "            num2 = float(input(\"Enter the second number: \"))\n",
    "            operator = input(\"Select operation (+, -, *, /): \")\n",
    "\n",
    "            result = calculate(num1, num2, operator)\n",
    "\n",
    "            print(\"Result:\", result)\n",
    "\n",
    "            with open(\"calculator_history.txt\", \"a\") as file:\n",
    "                file.write(f\"{num1} {operator} {num2} = {result}\\n\")\n",
    "\n",
    "        except ValueError:\n",
    "            print(\"Error! Please enter valid numbers.\")\n",
    "        except Exception as e:\n",
    "            print(\"An error occurred:\", e)\n",
    "\n",
    "        choice = input(\"Do you want to perform another calculation? (yes/no): \")\n",
    "        if choice.lower() != 'yes':\n",
    "            break\n",
    "\n",
    "\n",
    "if __name__ == \"__main__\":\n",
    "    main()\n"
   ]
  },
  {
   "cell_type": "code",
   "execution_count": 4,
   "id": "9431cc96",
   "metadata": {},
   "outputs": [
    {
     "name": "stdout",
     "output_type": "stream",
     "text": [
      "Top 3 most frequent words:\n",
      "1. fdbdghg - 1\n",
      "2. tytyrtey - 1\n",
      "3. gfhghsthtwetyy - 1\n"
     ]
    }
   ],
   "source": [
    "from collections import Counter\n",
    "\n",
    "def count_words(filename, top_n):\n",
    "    with open(filename, 'r') as file:\n",
    "        text = file.read().lower().split()\n",
    "\n",
    "    word_counts = Counter(text)\n",
    "    top_words = word_counts.most_common(top_n)\n",
    "\n",
    "    print(f\"Top {top_n} most frequent words:\")\n",
    "    for i, (word, count) in enumerate(top_words, 1):\n",
    "        print(f\"{i}. {word} - {count}\")\n",
    "\n",
    "# Sample usage:\n",
    "filename = \"sample.txt\"\n",
    "top_n = 3\n",
    "count_words(filename, top_n)\n"
   ]
  },
  {
   "cell_type": "code",
   "execution_count": 7,
   "id": "9a9f8ad0",
   "metadata": {},
   "outputs": [
    {
     "name": "stdout",
     "output_type": "stream",
     "text": [
      "The word 'the' occurs 5 times in the file 'notes.txt'.\n"
     ]
    }
   ],
   "source": [
    "def count_occurrences(filename, word):\n",
    "    try:\n",
    "        with open(filename, 'r') as file:\n",
    "            lines = file.readlines()\n",
    "            count = 0\n",
    "            for line in lines:\n",
    "                count += line.lower().count(word.lower())\n",
    "            print(f\"The word '{word}' occurs {count} times in the file '{filename}'.\")\n",
    "    except FileNotFoundError:\n",
    "        print(f\"Error: File '{filename}' not found.\")\n",
    "\n",
    "# Sample usage:\n",
    "filename = \"notes.txt\"\n",
    "word_to_search = \"the\"\n",
    "count_occurrences(filename, word_to_search)\n"
   ]
  },
  {
   "cell_type": "code",
   "execution_count": 8,
   "id": "8eeae431",
   "metadata": {},
   "outputs": [
    {
     "name": "stdout",
     "output_type": "stream",
     "text": [
      "Total number of words in 'sample.txt': 14\n"
     ]
    }
   ],
   "source": [
    "def count_total_words(filename):\n",
    "    try:\n",
    "        with open(filename, 'r') as file:\n",
    "            text = file.read()\n",
    "            word_count = len(text.split())\n",
    "            print(f\"Total number of words in '{filename}': {word_count}\")\n",
    "    except FileNotFoundError:\n",
    "        print(f\"Error: File '{filename}' not found.\")\n",
    "\n",
    "# Sample usage:\n",
    "filename = \"sample.txt\"\n",
    "count_total_words(filename)\n"
   ]
  },
  {
   "cell_type": "code",
   "execution_count": 12,
   "id": "2a9d020a",
   "metadata": {},
   "outputs": [
    {
     "name": "stdout",
     "output_type": "stream",
     "text": [
      "the\n",
      "of\n",
      "the\n",
      "uhr\n"
     ]
    }
   ],
   "source": [
    "def display_words(filename):\n",
    "    try:\n",
    "        with open(filename, 'r') as file:\n",
    "            for line in file:\n",
    "                words = line.split()\n",
    "                for word in words:\n",
    "                    if len(word) < 4:\n",
    "                        print(word)\n",
    "    except FileNotFoundError:\n",
    "        print(f\"Error: File '{filename}' not found.\")\n",
    "\n",
    "# Sample usage:\n",
    "filename = \"story.txt\"\n",
    "display_words(filename)\n"
   ]
  },
  {
   "cell_type": "code",
   "execution_count": 11,
   "id": "7bd041ee",
   "metadata": {},
   "outputs": [],
   "source": [
    "\n"
   ]
  },
  {
   "cell_type": "code",
   "execution_count": null,
   "id": "236f3222",
   "metadata": {},
   "outputs": [],
   "source": []
  }
 ],
 "metadata": {
  "kernelspec": {
   "display_name": "Python 3 (ipykernel)",
   "language": "python",
   "name": "python3"
  },
  "language_info": {
   "codemirror_mode": {
    "name": "ipython",
    "version": 3
   },
   "file_extension": ".py",
   "mimetype": "text/x-python",
   "name": "python",
   "nbconvert_exporter": "python",
   "pygments_lexer": "ipython3",
   "version": "3.9.12"
  }
 },
 "nbformat": 4,
 "nbformat_minor": 5
}
